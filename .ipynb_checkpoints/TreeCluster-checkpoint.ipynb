{
 "cells": [
  {
   "cell_type": "code",
   "execution_count": 10,
   "metadata": {},
   "outputs": [],
   "source": [
    "from treeswift import read_tree_newick\n",
    "from niemads import DisjointSet\n",
    "from queue import Queue\n",
    "import numpy as np\n",
    "import pandas as pd"
   ]
  },
  {
   "cell_type": "markdown",
   "metadata": {},
   "source": [
    "## Leer un árbol y preprocesarlo"
   ]
  },
  {
   "cell_type": "code",
   "execution_count": 2,
   "metadata": {},
   "outputs": [],
   "source": [
    "def get_tree(path):\n",
    "    f = open(path, \"r\")\n",
    "    tree = read_tree_newick(f.read())\n",
    "    \n",
    "    # hacer el arbol binario\n",
    "    tree.resolve_polytomies() \n",
    "    tree.suppress_unifurcations()\n",
    "    leaves = set()\n",
    "    for node in tree.traverse_postorder():\n",
    "    \n",
    "        if node.edge_length is None:\n",
    "            node.edge_length = 0\n",
    "        node.is_cut = False\n",
    "        \n",
    "        if node.is_leaf():\n",
    "            leaves.add(str(node))\n",
    "    return (tree, leaves)"
   ]
  },
  {
   "cell_type": "markdown",
   "metadata": {},
   "source": [
    "## Utils"
   ]
  },
  {
   "cell_type": "code",
   "execution_count": 3,
   "metadata": {},
   "outputs": [],
   "source": [
    "def get_leaves_cluster(node):\n",
    "    cluster = list()\n",
    "    cluster_object = list()\n",
    "    daughters = Queue()\n",
    "    daughters.put(node)\n",
    "    \n",
    "    while not daughters.empty():\n",
    "        daughter = daughters.get()\n",
    "        if daughter.is_cut:\n",
    "            continue\n",
    "        \n",
    "        daughter.is_cut = True\n",
    "        \n",
    "        daughter.Bl = 0\n",
    "        daughter.Br = 0\n",
    "        \n",
    "        if daughter.is_leaf():\n",
    "            cluster.append(str(daughter))\n",
    "        else:\n",
    "            for c in daughter.children:\n",
    "                daughters.put(c)\n",
    "    return cluster"
   ]
  },
  {
   "cell_type": "code",
   "execution_count": 4,
   "metadata": {},
   "outputs": [],
   "source": [
    "def write_result(path, clusters):\n",
    "    outfile = open(path, 'w')\n",
    "    \n",
    "    outfile.write('SequenceName\\tClusterNumber\\n')\n",
    "    \n",
    "    c = 1\n",
    "    \n",
    "    for cluster in clusters:\n",
    "        if len(cluster) == 1:\n",
    "            # todos los clusters de tamaño 1 se les asigna como\n",
    "            # numero de cluster -1\n",
    "            outfile.write('%s\\t-1\\n' % list(cluster)[0])\n",
    "        else:\n",
    "            for hoja in cluster:\n",
    "                outfile.write('%s\\t%d\\n' % (hoja,c))\n",
    "            c+=1\n",
    "    outfile.close()"
   ]
  },
  {
   "cell_type": "code",
   "execution_count": 5,
   "metadata": {},
   "outputs": [],
   "source": [
    "def compare_results(path_impl, path_paper):\n",
    "    output_imp = open(path_impl, 'r')\n",
    "    \n",
    "    first = True\n",
    "    \n",
    "    hashmap = {}\n",
    "    for line in output_imp:\n",
    "        if first:\n",
    "            first = False\n",
    "            continue\n",
    "        words = line.split()\n",
    "        hashmap[int(words[0])] = int(words[1])\n",
    "        \n",
    "    output_paper = open(path_paper, 'r')\n",
    "    \n",
    "    acc = 0\n",
    "    total = 0\n",
    "    first = True\n",
    "    for line in output_paper:\n",
    "        if first:\n",
    "            first = False\n",
    "            continue\n",
    "        total+=1\n",
    "        words = line.split()\n",
    "        \n",
    "        if hashmap[int(words[0])] == int(words[1]):\n",
    "            acc+=1\n",
    "    print(acc/total)"
   ]
  },
  {
   "cell_type": "markdown",
   "metadata": {},
   "source": [
    "## Algoritmo 1: Max-diameter min-cut partitioning"
   ]
  },
  {
   "cell_type": "code",
   "execution_count": 6,
   "metadata": {},
   "outputs": [],
   "source": [
    "def min_cut_max_diameter(path, threshold):\n",
    "    tree, leaves = get_tree(path)\n",
    "    clusters = list()\n",
    "    for node in tree.traverse_postorder():\n",
    "        \n",
    "        if node.is_leaf():\n",
    "            node.Bl = 0\n",
    "            node.Br = 0\n",
    "            continue\n",
    "        if node.is_cut:\n",
    "            continue\n",
    "        \n",
    "        #only 2 children\n",
    "        children = list(node.children)\n",
    "        \n",
    "        #tree is binary\n",
    "        if children[0].is_cut:\n",
    "            node.Bl = 0\n",
    "            if children[1].is_cut:\n",
    "                get_leaves_cluster(node)\n",
    "                continue\n",
    "        else:\n",
    "            node.Bl = max(children[0].Bl, children[0].Br) + children[0].edge_length\n",
    "        \n",
    "        \n",
    "        if children[1].is_cut:\n",
    "            node.Br = 0\n",
    "        else:\n",
    "            node.Br = max(children[1].Bl, children[1].Br) + children[1].edge_length\n",
    "              \n",
    "        # check threshold\n",
    "        if node.Bl + node.Br > threshold:\n",
    "            # cut longer one\n",
    "            if node.Bl > node.Br:\n",
    "                new_cluster = get_leaves_cluster(children[0])\n",
    "                node.Bl = 0\n",
    "            else:\n",
    "                new_cluster = get_leaves_cluster(children[1])\n",
    "                node.Br = 0\n",
    "        \n",
    "            if len(new_cluster) > 0:\n",
    "                clusters.append(new_cluster)\n",
    "                for c in new_cluster:\n",
    "                    leaves.remove(c)\n",
    "                    \n",
    "    if len(leaves) > 0:\n",
    "        clusters.append(list(leaves))\n",
    "    return clusters   "
   ]
  },
  {
   "cell_type": "code",
   "execution_count": 7,
   "metadata": {},
   "outputs": [],
   "source": [
    "write_result(\"./outputs/diamater.txt\",min_cut_max_diameter(\"./data/99_otus_unannotated.tree\", 0.1))"
   ]
  },
  {
   "cell_type": "code",
   "execution_count": 8,
   "metadata": {},
   "outputs": [
    {
     "name": "stdout",
     "output_type": "stream",
     "text": [
      "1.0\n"
     ]
    }
   ],
   "source": [
    "compare_results(\"./outputs/diamater.txt\", \"./outputs/paper_diameter.txt\")"
   ]
  },
  {
   "cell_type": "markdown",
   "metadata": {},
   "source": [
    "##  Algoritmo 2: Sum-length min-cut partitioning"
   ]
  },
  {
   "cell_type": "code",
   "execution_count": 9,
   "metadata": {},
   "outputs": [],
   "source": [
    "def min_cut_max_sum(path, threshold):\n",
    "    tree, leaves = get_tree(path)\n",
    "    clusters = list()\n",
    "    for node in tree.traverse_postorder():\n",
    "        \n",
    "        if node.is_leaf():\n",
    "            node.Bl = 0\n",
    "            node.Br = 0\n",
    "            continue\n",
    "        if node.is_cut:\n",
    "            continue\n",
    "        \n",
    "        #only 2 children\n",
    "        children = list(node.children)\n",
    "        \n",
    "        #tree is binary\n",
    "        if children[0].is_cut:\n",
    "            node.Bl = 0\n",
    "            if children[1].is_cut:\n",
    "                get_leaves_cluster(node)\n",
    "                continue\n",
    "        else:\n",
    "            node.Bl = children[0].Bl + children[0].Br + children[0].edge_length\n",
    "        \n",
    "        \n",
    "        if children[1].is_cut:\n",
    "            node.Br = 0\n",
    "        else:\n",
    "            node.Br = children[1].Bl + children[1].Br + children[1].edge_length\n",
    "              \n",
    "        # check threshold\n",
    "        if node.Bl + node.Br > threshold:\n",
    "            # cut longer one\n",
    "            if node.Bl > node.Br:\n",
    "                new_cluster = get_leaves_cluster(children[0])\n",
    "                node.Bl = 0\n",
    "            else:\n",
    "                new_cluster = get_leaves_cluster(children[1])\n",
    "                node.Br = 0\n",
    "        \n",
    "            if len(new_cluster) > 0:\n",
    "                clusters.append(new_cluster)\n",
    "                for c in new_cluster:\n",
    "                    leaves.remove(c)\n",
    "                    \n",
    "    if len(leaves) > 0:\n",
    "        clusters.append(list(leaves))\n",
    "    return clusters"
   ]
  },
  {
   "cell_type": "code",
   "execution_count": 10,
   "metadata": {},
   "outputs": [],
   "source": [
    "write_result(\"./outputs/sum_length.txt\",min_cut_max_sum(\"./data/99_otus_unannotated.tree\", 0.1))"
   ]
  },
  {
   "cell_type": "code",
   "execution_count": 11,
   "metadata": {},
   "outputs": [
    {
     "name": "stdout",
     "output_type": "stream",
     "text": [
      "1.0\n"
     ]
    }
   ],
   "source": [
    "compare_results(\"./outputs/sum_length.txt\", \"./outputs/max_sum_paper.txt\")"
   ]
  },
  {
   "cell_type": "markdown",
   "metadata": {},
   "source": [
    "## Algoritmo 3: Single-Linkage"
   ]
  },
  {
   "cell_type": "code",
   "execution_count": 12,
   "metadata": {},
   "outputs": [],
   "source": [
    "def single_linkage(path, threshold):\n",
    "    tree, leaves = get_tree(path)\n",
    "    clusters = list()\n",
    "    \n",
    "    # buscar en el actual sub-arbol las distancias minimas a sus hojas\n",
    "    for node in tree.traverse_postorder():\n",
    "        if node.is_leaf():\n",
    "            # guardar la distancia minima y el id de la hoja\n",
    "            node.minBelow = (0, node.label) \n",
    "        else:\n",
    "            node.minBelow = min((c.minBelow[0]+c.edge_length,c.minBelow[1]) for c in node.children)\n",
    "            \n",
    "    # buscar la distancia minima del actual nodo \n",
    "    #a una hoja que no este en el sub-arbol\n",
    "    \n",
    "    for node in tree.traverse_preorder():\n",
    "        node.minAbove = (float('inf'), None)\n",
    "        \n",
    "        if node.is_root():\n",
    "            continue\n",
    "        \n",
    "        #buscar por sus hermanas\n",
    "        for c in node.parent.children:\n",
    "            if c != node:\n",
    "                if node.edge_length + c.edge_length + c.minBelow[0] < node.minAbove[0]:\n",
    "                    node.minAbove = (node.edge_length + c.edge_length + c.minBelow[0] , c.minBelow[1])\n",
    "                    \n",
    "        # buscar por la madre\n",
    "        if not c.parent.is_root():\n",
    "            if node.edge_length + node.parent.minAbove[0] < node.minAbove[0]:\n",
    "                node.minAbove = (node.edge_length + node.parent.minAbove[0], node.parent.minAbove[1])\n",
    "                \n",
    "    # buscar los clusters\n",
    "    \n",
    "    for node in tree.traverse_postorder():\n",
    "        if node.is_leaf():\n",
    "            continue\n",
    "        \n",
    "        children = node.children\n",
    "        \n",
    "        left_distance = children[0].minBelow[0] + children[0].edge_length\n",
    "        right_distance = children[1].minBelow[0] + children[1].edge_length\n",
    "        above_distance = node.minAbove[0]\n",
    "        \n",
    "        if left_distance + right_distance > threshold and left_distance + above_distance > threshold:\n",
    "            cluster = get_leaves_cluster((children[0]))\n",
    "            \n",
    "            if len(cluster) > 0:\n",
    "                clusters.append(cluster)\n",
    "                for c in cluster:\n",
    "                    leaves.remove(c)\n",
    "        \n",
    "        if left_distance + right_distance > threshold and right_distance + above_distance > threshold:\n",
    "            cluster = get_leaves_cluster((children[1]))\n",
    "            \n",
    "            if len(cluster) > 0:\n",
    "                clusters.append(cluster)\n",
    "                for c in cluster:\n",
    "                    leaves.remove(c)\n",
    "        \n",
    "        if left_distance + above_distance > threshold and right_distance + above_distance > threshold:\n",
    "            cluster = get_leaves_cluster(node)\n",
    "            if len(cluster) > 0:\n",
    "                clusters.append(cluster)\n",
    "                for c in cluster:\n",
    "                    leaves.remove(c)\n",
    "                    \n",
    "    if len(leaves) > 0:\n",
    "        clusters.append(list(leaves))\n",
    "    return clusters"
   ]
  },
  {
   "cell_type": "code",
   "execution_count": 13,
   "metadata": {},
   "outputs": [],
   "source": [
    "write_result(\"./outputs/single_linkage.txt\",single_linkage(\"./data/99_otus_unannotated.tree\", 0.1))"
   ]
  },
  {
   "cell_type": "code",
   "execution_count": 14,
   "metadata": {},
   "outputs": [
    {
     "name": "stdout",
     "output_type": "stream",
     "text": [
      "1.0\n"
     ]
    }
   ],
   "source": [
    "compare_results(\"./outputs/single_linkage.txt\", \"./outputs/single_linkage_paper.txt\")"
   ]
  },
  {
   "cell_type": "markdown",
   "metadata": {},
   "source": [
    "# Greengenes Database Tests"
   ]
  },
  {
   "cell_type": "code",
   "execution_count": 14,
   "metadata": {},
   "outputs": [],
   "source": [
    "threshold = [0.015, 0.03, 0.045, 0.06, 0.09, 0.12, 0.15]"
   ]
  },
  {
   "cell_type": "markdown",
   "metadata": {},
   "source": [
    "## Generación de datos generales"
   ]
  },
  {
   "cell_type": "code",
   "execution_count": 23,
   "metadata": {},
   "outputs": [],
   "source": [
    "columns = [\"threshold\",\"singletons\", \"total #clusters\", \"max. cluster size\"]\n",
    "table = []\n",
    "for t in threshold:\n",
    "    clusters = min_cut_max_diameter(\"./data/99_otus_unannotated.tree\", t)\n",
    "    num_singletons = 0\n",
    "    max_cluster_size = 0\n",
    "    for cluster in clusters:\n",
    "        max_cluster_size = max(len(cluster), max_cluster_size)\n",
    "        if(len(cluster) == 1):\n",
    "            num_singletons+=1\n",
    "    \n",
    "    table.append([t, num_singletons, len(clusters), max_cluster_size])\n",
    "    \n",
    "\n",
    "table = np.array(table)\n"
   ]
  },
  {
   "cell_type": "code",
   "execution_count": 24,
   "metadata": {},
   "outputs": [
    {
     "data": {
      "text/html": [
       "<div>\n",
       "<style scoped>\n",
       "    .dataframe tbody tr th:only-of-type {\n",
       "        vertical-align: middle;\n",
       "    }\n",
       "\n",
       "    .dataframe tbody tr th {\n",
       "        vertical-align: top;\n",
       "    }\n",
       "\n",
       "    .dataframe thead th {\n",
       "        text-align: right;\n",
       "    }\n",
       "</style>\n",
       "<table border=\"1\" class=\"dataframe\">\n",
       "  <thead>\n",
       "    <tr style=\"text-align: right;\">\n",
       "      <th></th>\n",
       "      <th>threshold</th>\n",
       "      <th>singletons</th>\n",
       "      <th>total #clusters</th>\n",
       "      <th>max. cluster size</th>\n",
       "    </tr>\n",
       "  </thead>\n",
       "  <tbody>\n",
       "    <tr>\n",
       "      <th>0</th>\n",
       "      <td>0.015</td>\n",
       "      <td>86387.0</td>\n",
       "      <td>123456.0</td>\n",
       "      <td>47.0</td>\n",
       "    </tr>\n",
       "    <tr>\n",
       "      <th>1</th>\n",
       "      <td>0.030</td>\n",
       "      <td>42510.0</td>\n",
       "      <td>77263.0</td>\n",
       "      <td>96.0</td>\n",
       "    </tr>\n",
       "    <tr>\n",
       "      <th>2</th>\n",
       "      <td>0.045</td>\n",
       "      <td>24795.0</td>\n",
       "      <td>54068.0</td>\n",
       "      <td>171.0</td>\n",
       "    </tr>\n",
       "    <tr>\n",
       "      <th>3</th>\n",
       "      <td>0.060</td>\n",
       "      <td>15257.0</td>\n",
       "      <td>39809.0</td>\n",
       "      <td>305.0</td>\n",
       "    </tr>\n",
       "    <tr>\n",
       "      <th>4</th>\n",
       "      <td>0.090</td>\n",
       "      <td>6396.0</td>\n",
       "      <td>23631.0</td>\n",
       "      <td>540.0</td>\n",
       "    </tr>\n",
       "    <tr>\n",
       "      <th>5</th>\n",
       "      <td>0.120</td>\n",
       "      <td>3003.0</td>\n",
       "      <td>15052.0</td>\n",
       "      <td>808.0</td>\n",
       "    </tr>\n",
       "    <tr>\n",
       "      <th>6</th>\n",
       "      <td>0.150</td>\n",
       "      <td>1525.0</td>\n",
       "      <td>10112.0</td>\n",
       "      <td>1209.0</td>\n",
       "    </tr>\n",
       "  </tbody>\n",
       "</table>\n",
       "</div>"
      ],
      "text/plain": [
       "   threshold  singletons  total #clusters  max. cluster size\n",
       "0      0.015     86387.0         123456.0               47.0\n",
       "1      0.030     42510.0          77263.0               96.0\n",
       "2      0.045     24795.0          54068.0              171.0\n",
       "3      0.060     15257.0          39809.0              305.0\n",
       "4      0.090      6396.0          23631.0              540.0\n",
       "5      0.120      3003.0          15052.0              808.0\n",
       "6      0.150      1525.0          10112.0             1209.0"
      ]
     },
     "execution_count": 24,
     "metadata": {},
     "output_type": "execute_result"
    }
   ],
   "source": [
    "df = pd.DataFrame(data=table, columns=columns)\n",
    "df"
   ]
  },
  {
   "cell_type": "markdown",
   "metadata": {},
   "source": [
    "## Cluster diversity"
   ]
  },
  {
   "cell_type": "markdown",
   "metadata": {},
   "source": [
    "### Por tamaño de camino"
   ]
  },
  {
   "cell_type": "code",
   "execution_count": 22,
   "metadata": {},
   "outputs": [],
   "source": [
    "def get_diversity(clusters, path, type=1):\n",
    "    total_clusters = len(clusters)\n",
    "    tree = get_tree(path)[0]\n",
    "    mapping = tree.label_to_node()\n",
    "    ans = 0.0\n",
    "    for cluster in clusters:\n",
    "        sum_distances = 0.0\n",
    "        for leaf1 in cluster:\n",
    "            for leaf2 in cluster:\n",
    "                if leaf1 == leaf2:\n",
    "                    continue\n",
    "                else:\n",
    "                    if type == 1:\n",
    "                        sum_distances+=tree.distance_between(mapping[leaf1], mapping[leaf2])\n",
    "                    else:\n",
    "                        pass\n",
    "        sum_distances/=float(len(cluster))\n",
    "        ans+=sum_distances\n",
    "    \n",
    "    diversity = ans/float(total_clusters)\n",
    "    return diversity"
   ]
  },
  {
   "cell_type": "code",
   "execution_count": null,
   "metadata": {},
   "outputs": [],
   "source": [
    "x_num_clusters = []\n",
    "y_diversity = []\n",
    "for t in threshold:\n",
    "    clusters = min_cut_max_diameter(\"./data/99_otus_unannotated.tree\", t)\n",
    "    x_num_clusters.append(len(clusters))\n",
    "    y_diversity.append(get_diversity(clusters, \"./data/99_otus_unannotated.tree\"))\n",
    "    print(y_diversity)\n"
   ]
  },
  {
   "cell_type": "code",
   "execution_count": null,
   "metadata": {},
   "outputs": [],
   "source": [
    "print(x_num_clusters)"
   ]
  },
  {
   "cell_type": "code",
   "execution_count": null,
   "metadata": {},
   "outputs": [],
   "source": [
    "print(y_diversity)"
   ]
  },
  {
   "cell_type": "code",
   "execution_count": null,
   "metadata": {},
   "outputs": [],
   "source": []
  }
 ],
 "metadata": {
  "kernelspec": {
   "display_name": "Python 3",
   "language": "python",
   "name": "python3"
  },
  "language_info": {
   "codemirror_mode": {
    "name": "ipython",
    "version": 3
   },
   "file_extension": ".py",
   "mimetype": "text/x-python",
   "name": "python",
   "nbconvert_exporter": "python",
   "pygments_lexer": "ipython3",
   "version": "3.7.6"
  }
 },
 "nbformat": 4,
 "nbformat_minor": 4
}
